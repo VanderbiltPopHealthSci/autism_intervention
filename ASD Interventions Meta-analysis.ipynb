{
 "metadata": {
  "name": "",
  "signature": "sha256:c5da12b63eb34aa127481952caa5502e209d699433ded99345b767840f1ed0a5"
 },
 "nbformat": 3,
 "nbformat_minor": 0,
 "worksheets": [
  {
   "cells": [
    {
     "cell_type": "code",
     "collapsed": false,
     "input": [
      "%matplotlib inline\n",
      "import numpy as np\n",
      "import pandas as pd\n",
      "import matplotlib.pyplot as plt"
     ],
     "language": "python",
     "metadata": {},
     "outputs": [],
     "prompt_number": 1
    },
    {
     "cell_type": "code",
     "collapsed": false,
     "input": [
      "vabs_data = pd.read_csv('data/VABS.csv', na_values=['NR', 'see comment', 'nr'])\n",
      "cognition_data = pd.read_csv('data/Cognition.csv', \n",
      "                             na_values=['NR', 'nr', 'Varied see comment', 'Varied', 'see comment'])"
     ],
     "language": "python",
     "metadata": {},
     "outputs": [],
     "prompt_number": 2
    },
    {
     "cell_type": "code",
     "collapsed": false,
     "input": [
      "# replace some values\n",
      "vabs_data = vabs_data.replace({'immed': 0})\n",
      "vabs_data.time_to_last_fup = vabs_data.time_to_last_fup.replace({'3m':3}).astype(float)\n",
      "\n",
      "vabs_data.iq_mean = vabs_data.iq_mean.replace({'composite': np.nan})\n",
      "vabs_data.iq_mean = vabs_data.iq_mean.astype(float)\n",
      "\n",
      "# vabs_data.VABS1 = vabs_data.VABS1.replace({'adap Beh composite': 'composite'})\n",
      "# vabs_data.VABS2 = vabs_data.VABS2.replace({'Communication': 'communication'})\n",
      "# vabs_data.VABS3 = vabs_data.VABS3.replace({'Daily living skills': 'daily living', 'Daily living': 'daily living'})\n",
      "# vabs_data.VABS4 = vabs_data.VABS4.replace({'Socialization': 'socialization'})\n",
      "# vabs_data.VABS2 = vabs_data.VABS2.replace({'VABS-Motor skills': 'motor skills', 'Motor skills': 'motor skills'})\n",
      "\n",
      "cognition_data = cognition_data.replace({'immed': 0})\n",
      "cognition_data.time_to_last_fup = cognition_data.time_to_last_fup.astype(float)"
     ],
     "language": "python",
     "metadata": {},
     "outputs": [],
     "prompt_number": 3
    },
    {
     "cell_type": "markdown",
     "metadata": {},
     "source": [
      "## VABS"
     ]
    },
    {
     "cell_type": "code",
     "collapsed": false,
     "input": [
      "melt_vars = ['VABS',\n",
      " 'baseline_mean',\n",
      " 'baseline_sd',\n",
      " 'end_tx_mean',\n",
      " 'end_tx_sd',\n",
      " 'final_mean',\n",
      " 'final_sd']"
     ],
     "language": "python",
     "metadata": {},
     "outputs": [],
     "prompt_number": 4
    },
    {
     "cell_type": "markdown",
     "metadata": {},
     "source": [
      "Create variable names for each time period"
     ]
    },
    {
     "cell_type": "code",
     "collapsed": false,
     "input": [
      "all_melt_vars = [['{0}{1}'.format(varname,i) for varname in melt_vars] for i in range(1, 5)]"
     ],
     "language": "python",
     "metadata": {},
     "outputs": [],
     "prompt_number": 5
    },
    {
     "cell_type": "code",
     "collapsed": false,
     "input": [
      "vabs_data.head()"
     ],
     "language": "python",
     "metadata": {},
     "outputs": [
      {
       "html": [
        "<div style=\"max-height:1000px;max-width:1500px;overflow:auto;\">\n",
        "<table border=\"1\" class=\"dataframe\">\n",
        "  <thead>\n",
        "    <tr style=\"text-align: right;\">\n",
        "      <th></th>\n",
        "      <th>obsid</th>\n",
        "      <th>refid</th>\n",
        "      <th>author</th>\n",
        "      <th>year</th>\n",
        "      <th>group</th>\n",
        "      <th>intervention_duration</th>\n",
        "      <th>intervention_intensity</th>\n",
        "      <th>other_interventions</th>\n",
        "      <th>time_to_last_fup</th>\n",
        "      <th>n_enroll</th>\n",
        "      <th>n_analysis</th>\n",
        "      <th>age_enroll_mean</th>\n",
        "      <th>age_enroll_sd</th>\n",
        "      <th>age_enroll_lo</th>\n",
        "      <th>age_enroll_hi</th>\n",
        "      <th>diagnosis_autism</th>\n",
        "      <th>diagnosis_pdd-nos</th>\n",
        "      <th>diagnosis_asperger</th>\n",
        "      <th>diagnosis_other</th>\n",
        "      <th>iq_measure</th>\n",
        "      <th></th>\n",
        "    </tr>\n",
        "  </thead>\n",
        "  <tbody>\n",
        "    <tr>\n",
        "      <th>0</th>\n",
        "      <td> 1</td>\n",
        "      <td> 6284</td>\n",
        "      <td>         Eldevik</td>\n",
        "      <td> 2012</td>\n",
        "      <td>                     EIBI</td>\n",
        "      <td> 25.1</td>\n",
        "      <td>  13.6</td>\n",
        "      <td>NaN</td>\n",
        "      <td> NaN</td>\n",
        "      <td> 31</td>\n",
        "      <td> 31</td>\n",
        "      <td> 42.20</td>\n",
        "      <td>  9.00</td>\n",
        "      <td> 26.0</td>\n",
        "      <td> 70</td>\n",
        "      <td> 25</td>\n",
        "      <td>  5</td>\n",
        "      <td>  1</td>\n",
        "      <td>NaN</td>\n",
        "      <td>                                               NaN</td>\n",
        "      <td>...</td>\n",
        "    </tr>\n",
        "    <tr>\n",
        "      <th>1</th>\n",
        "      <td> 2</td>\n",
        "      <td> 6284</td>\n",
        "      <td>         Eldevik</td>\n",
        "      <td> 2012</td>\n",
        "      <td>                      TAU</td>\n",
        "      <td> 24.6</td>\n",
        "      <td>     5</td>\n",
        "      <td>NaN</td>\n",
        "      <td> NaN</td>\n",
        "      <td> 12</td>\n",
        "      <td> 12</td>\n",
        "      <td> 46.20</td>\n",
        "      <td> 12.40</td>\n",
        "      <td> 24.0</td>\n",
        "      <td> 67</td>\n",
        "      <td>  9</td>\n",
        "      <td>  3</td>\n",
        "      <td>  0</td>\n",
        "      <td>NaN</td>\n",
        "      <td>                                               NaN</td>\n",
        "      <td>...</td>\n",
        "    </tr>\n",
        "    <tr>\n",
        "      <th>2</th>\n",
        "      <td> 3</td>\n",
        "      <td> 6288</td>\n",
        "      <td>          Carter</td>\n",
        "      <td> 2011</td>\n",
        "      <td>                     HTMW</td>\n",
        "      <td>  3.5</td>\n",
        "      <td>   NaN</td>\n",
        "      <td>NaN</td>\n",
        "      <td> 9.3</td>\n",
        "      <td> 32</td>\n",
        "      <td> 25</td>\n",
        "      <td> 21.11</td>\n",
        "      <td>  2.71</td>\n",
        "      <td> 15.5</td>\n",
        "      <td> 25</td>\n",
        "      <td> 25</td>\n",
        "      <td>NaN</td>\n",
        "      <td>NaN</td>\n",
        "      <td>NaN</td>\n",
        "      <td>                                               NaN</td>\n",
        "      <td>...</td>\n",
        "    </tr>\n",
        "    <tr>\n",
        "      <th>3</th>\n",
        "      <td> 4</td>\n",
        "      <td> 6288</td>\n",
        "      <td>          Carter</td>\n",
        "      <td> 2011</td>\n",
        "      <td>                      TAU</td>\n",
        "      <td>  3.5</td>\n",
        "      <td>   NaN</td>\n",
        "      <td>NaN</td>\n",
        "      <td> 9.3</td>\n",
        "      <td> 30</td>\n",
        "      <td> 25</td>\n",
        "      <td> 21.51</td>\n",
        "      <td>  2.82</td>\n",
        "      <td> 16.3</td>\n",
        "      <td> 25</td>\n",
        "      <td> 25</td>\n",
        "      <td>NaN</td>\n",
        "      <td>NaN</td>\n",
        "      <td>NaN</td>\n",
        "      <td>                                               NaN</td>\n",
        "      <td>...</td>\n",
        "    </tr>\n",
        "    <tr>\n",
        "      <th>4</th>\n",
        "      <td> 5</td>\n",
        "      <td> 6322</td>\n",
        "      <td> Peters-Scheffer</td>\n",
        "      <td> 2010</td>\n",
        "      <td> low intensity behavioral</td>\n",
        "      <td>  8.0</td>\n",
        "      <td> 34.67</td>\n",
        "      <td>NaN</td>\n",
        "      <td> 0.0</td>\n",
        "      <td> 12</td>\n",
        "      <td> 12</td>\n",
        "      <td> 53.50</td>\n",
        "      <td>  5.52</td>\n",
        "      <td> 42.0</td>\n",
        "      <td> 62</td>\n",
        "      <td>NaN</td>\n",
        "      <td>NaN</td>\n",
        "      <td>NaN</td>\n",
        "      <td> 12</td>\n",
        "      <td> Wechsler Preschool and Primary Scale of Intell...</td>\n",
        "      <td>...</td>\n",
        "    </tr>\n",
        "  </tbody>\n",
        "</table>\n",
        "<p>5 rows \u00d7 22 columns</p>\n",
        "</div>"
       ],
       "metadata": {},
       "output_type": "pyout",
       "prompt_number": 6,
       "text": [
        "   obsid refid           author  year                     group  \\\n",
        "0      1  6284          Eldevik  2012                      EIBI   \n",
        "1      2  6284          Eldevik  2012                       TAU   \n",
        "2      3  6288           Carter  2011                      HTMW   \n",
        "3      4  6288           Carter  2011                       TAU   \n",
        "4      5  6322  Peters-Scheffer  2010  low intensity behavioral   \n",
        "\n",
        "   intervention_duration intervention_intensity  other_interventions  \\\n",
        "0                   25.1                   13.6                  NaN   \n",
        "1                   24.6                      5                  NaN   \n",
        "2                    3.5                    NaN                  NaN   \n",
        "3                    3.5                    NaN                  NaN   \n",
        "4                    8.0                  34.67                  NaN   \n",
        "\n",
        "   time_to_last_fup  n_enroll  n_analysis  age_enroll_mean  age_enroll_sd  \\\n",
        "0               NaN        31          31            42.20           9.00   \n",
        "1               NaN        12          12            46.20          12.40   \n",
        "2               9.3        32          25            21.11           2.71   \n",
        "3               9.3        30          25            21.51           2.82   \n",
        "4               0.0        12          12            53.50           5.52   \n",
        "\n",
        "   age_enroll_lo  age_enroll_hi  diagnosis_autism  diagnosis_pdd-nos  \\\n",
        "0           26.0             70                25                  5   \n",
        "1           24.0             67                 9                  3   \n",
        "2           15.5             25                25                NaN   \n",
        "3           16.3             25                25                NaN   \n",
        "4           42.0             62               NaN                NaN   \n",
        "\n",
        "   diagnosis_asperger  diagnosis_other  \\\n",
        "0                   1              NaN   \n",
        "1                   0              NaN   \n",
        "2                 NaN              NaN   \n",
        "3                 NaN              NaN   \n",
        "4                 NaN               12   \n",
        "\n",
        "                                          iq_measure      \n",
        "0                                                NaN ...  \n",
        "1                                                NaN ...  \n",
        "2                                                NaN ...  \n",
        "3                                                NaN ...  \n",
        "4  Wechsler Preschool and Primary Scale of Intell... ...  \n",
        "\n",
        "[5 rows x 22 columns]"
       ]
      }
     ],
     "prompt_number": 6
    },
    {
     "cell_type": "code",
     "collapsed": false,
     "input": [
      "varlist = []\n",
      "for i,v in enumerate(all_melt_vars):\n",
      "    chunk = vabs_data[v]\n",
      "    chunk.columns = melt_vars\n",
      "    chunk['time'] = i\n",
      "    varlist.append(chunk)\n",
      "long_vars = pd.concat(varlist)"
     ],
     "language": "python",
     "metadata": {},
     "outputs": [
      {
       "ename": "KeyError",
       "evalue": "\"['VABS1' 'baseline_mean1' 'baseline_sd1' 'end_tx_mean1' 'end_tx_sd1'\\n 'final_mean1' 'final_sd1'] not in index\"",
       "output_type": "pyerr",
       "traceback": [
        "\u001b[0;31m---------------------------------------------------------------------------\u001b[0m\n\u001b[0;31mKeyError\u001b[0m                                  Traceback (most recent call last)",
        "\u001b[0;32m<ipython-input-7-5bd71cd5b9b4>\u001b[0m in \u001b[0;36m<module>\u001b[0;34m()\u001b[0m\n\u001b[1;32m      1\u001b[0m \u001b[0mvarlist\u001b[0m \u001b[0;34m=\u001b[0m \u001b[0;34m[\u001b[0m\u001b[0;34m]\u001b[0m\u001b[0;34m\u001b[0m\u001b[0m\n\u001b[1;32m      2\u001b[0m \u001b[0;32mfor\u001b[0m \u001b[0mi\u001b[0m\u001b[0;34m,\u001b[0m\u001b[0mv\u001b[0m \u001b[0;32min\u001b[0m \u001b[0menumerate\u001b[0m\u001b[0;34m(\u001b[0m\u001b[0mall_melt_vars\u001b[0m\u001b[0;34m)\u001b[0m\u001b[0;34m:\u001b[0m\u001b[0;34m\u001b[0m\u001b[0m\n\u001b[0;32m----> 3\u001b[0;31m     \u001b[0mchunk\u001b[0m \u001b[0;34m=\u001b[0m \u001b[0mvabs_data\u001b[0m\u001b[0;34m[\u001b[0m\u001b[0mv\u001b[0m\u001b[0;34m]\u001b[0m\u001b[0;34m\u001b[0m\u001b[0m\n\u001b[0m\u001b[1;32m      4\u001b[0m     \u001b[0mchunk\u001b[0m\u001b[0;34m.\u001b[0m\u001b[0mcolumns\u001b[0m \u001b[0;34m=\u001b[0m \u001b[0mmelt_vars\u001b[0m\u001b[0;34m\u001b[0m\u001b[0m\n\u001b[1;32m      5\u001b[0m     \u001b[0mchunk\u001b[0m\u001b[0;34m[\u001b[0m\u001b[0;34m'time'\u001b[0m\u001b[0;34m]\u001b[0m \u001b[0;34m=\u001b[0m \u001b[0mi\u001b[0m\u001b[0;34m\u001b[0m\u001b[0m\n",
        "\u001b[0;32m/Library/Python/2.7/site-packages/pandas-0.13.1_213_gc174c3d-py2.7-macosx-10.9-intel.egg/pandas/core/frame.pyc\u001b[0m in \u001b[0;36m__getitem__\u001b[0;34m(self, key)\u001b[0m\n\u001b[1;32m   1659\u001b[0m         \u001b[0;32mif\u001b[0m \u001b[0misinstance\u001b[0m\u001b[0;34m(\u001b[0m\u001b[0mkey\u001b[0m\u001b[0;34m,\u001b[0m \u001b[0;34m(\u001b[0m\u001b[0mSeries\u001b[0m\u001b[0;34m,\u001b[0m \u001b[0mnp\u001b[0m\u001b[0;34m.\u001b[0m\u001b[0mndarray\u001b[0m\u001b[0;34m,\u001b[0m \u001b[0mlist\u001b[0m\u001b[0;34m)\u001b[0m\u001b[0;34m)\u001b[0m\u001b[0;34m:\u001b[0m\u001b[0;34m\u001b[0m\u001b[0m\n\u001b[1;32m   1660\u001b[0m             \u001b[0;31m# either boolean or fancy integer index\u001b[0m\u001b[0;34m\u001b[0m\u001b[0;34m\u001b[0m\u001b[0m\n\u001b[0;32m-> 1661\u001b[0;31m             \u001b[0;32mreturn\u001b[0m \u001b[0mself\u001b[0m\u001b[0;34m.\u001b[0m\u001b[0m_getitem_array\u001b[0m\u001b[0;34m(\u001b[0m\u001b[0mkey\u001b[0m\u001b[0;34m)\u001b[0m\u001b[0;34m\u001b[0m\u001b[0m\n\u001b[0m\u001b[1;32m   1662\u001b[0m         \u001b[0;32melif\u001b[0m \u001b[0misinstance\u001b[0m\u001b[0;34m(\u001b[0m\u001b[0mkey\u001b[0m\u001b[0;34m,\u001b[0m \u001b[0mDataFrame\u001b[0m\u001b[0;34m)\u001b[0m\u001b[0;34m:\u001b[0m\u001b[0;34m\u001b[0m\u001b[0m\n\u001b[1;32m   1663\u001b[0m             \u001b[0;32mreturn\u001b[0m \u001b[0mself\u001b[0m\u001b[0;34m.\u001b[0m\u001b[0m_getitem_frame\u001b[0m\u001b[0;34m(\u001b[0m\u001b[0mkey\u001b[0m\u001b[0;34m)\u001b[0m\u001b[0;34m\u001b[0m\u001b[0m\n",
        "\u001b[0;32m/Library/Python/2.7/site-packages/pandas-0.13.1_213_gc174c3d-py2.7-macosx-10.9-intel.egg/pandas/core/frame.pyc\u001b[0m in \u001b[0;36m_getitem_array\u001b[0;34m(self, key)\u001b[0m\n\u001b[1;32m   1703\u001b[0m             \u001b[0;32mreturn\u001b[0m \u001b[0mself\u001b[0m\u001b[0;34m.\u001b[0m\u001b[0mtake\u001b[0m\u001b[0;34m(\u001b[0m\u001b[0mindexer\u001b[0m\u001b[0;34m,\u001b[0m \u001b[0maxis\u001b[0m\u001b[0;34m=\u001b[0m\u001b[0;36m0\u001b[0m\u001b[0;34m,\u001b[0m \u001b[0mconvert\u001b[0m\u001b[0;34m=\u001b[0m\u001b[0mFalse\u001b[0m\u001b[0;34m)\u001b[0m\u001b[0;34m\u001b[0m\u001b[0m\n\u001b[1;32m   1704\u001b[0m         \u001b[0;32melse\u001b[0m\u001b[0;34m:\u001b[0m\u001b[0;34m\u001b[0m\u001b[0m\n\u001b[0;32m-> 1705\u001b[0;31m             \u001b[0mindexer\u001b[0m \u001b[0;34m=\u001b[0m \u001b[0mself\u001b[0m\u001b[0;34m.\u001b[0m\u001b[0mix\u001b[0m\u001b[0;34m.\u001b[0m\u001b[0m_convert_to_indexer\u001b[0m\u001b[0;34m(\u001b[0m\u001b[0mkey\u001b[0m\u001b[0;34m,\u001b[0m \u001b[0maxis\u001b[0m\u001b[0;34m=\u001b[0m\u001b[0;36m1\u001b[0m\u001b[0;34m)\u001b[0m\u001b[0;34m\u001b[0m\u001b[0m\n\u001b[0m\u001b[1;32m   1706\u001b[0m             \u001b[0;32mreturn\u001b[0m \u001b[0mself\u001b[0m\u001b[0;34m.\u001b[0m\u001b[0mtake\u001b[0m\u001b[0;34m(\u001b[0m\u001b[0mindexer\u001b[0m\u001b[0;34m,\u001b[0m \u001b[0maxis\u001b[0m\u001b[0;34m=\u001b[0m\u001b[0;36m1\u001b[0m\u001b[0;34m,\u001b[0m \u001b[0mconvert\u001b[0m\u001b[0;34m=\u001b[0m\u001b[0mTrue\u001b[0m\u001b[0;34m)\u001b[0m\u001b[0;34m\u001b[0m\u001b[0m\n\u001b[1;32m   1707\u001b[0m \u001b[0;34m\u001b[0m\u001b[0m\n",
        "\u001b[0;32m/Library/Python/2.7/site-packages/pandas-0.13.1_213_gc174c3d-py2.7-macosx-10.9-intel.egg/pandas/core/indexing.pyc\u001b[0m in \u001b[0;36m_convert_to_indexer\u001b[0;34m(self, obj, axis, is_setter)\u001b[0m\n\u001b[1;32m   1093\u001b[0m                     \u001b[0;32mif\u001b[0m \u001b[0misinstance\u001b[0m\u001b[0;34m(\u001b[0m\u001b[0mobj\u001b[0m\u001b[0;34m,\u001b[0m \u001b[0mtuple\u001b[0m\u001b[0;34m)\u001b[0m \u001b[0;32mand\u001b[0m \u001b[0mis_setter\u001b[0m\u001b[0;34m:\u001b[0m\u001b[0;34m\u001b[0m\u001b[0m\n\u001b[1;32m   1094\u001b[0m                         \u001b[0;32mreturn\u001b[0m \u001b[0;34m{\u001b[0m\u001b[0;34m'key'\u001b[0m\u001b[0;34m:\u001b[0m \u001b[0mobj\u001b[0m\u001b[0;34m}\u001b[0m\u001b[0;34m\u001b[0m\u001b[0m\n\u001b[0;32m-> 1095\u001b[0;31m                     \u001b[0;32mraise\u001b[0m \u001b[0mKeyError\u001b[0m\u001b[0;34m(\u001b[0m\u001b[0;34m'%s not in index'\u001b[0m \u001b[0;34m%\u001b[0m \u001b[0mobjarr\u001b[0m\u001b[0;34m[\u001b[0m\u001b[0mmask\u001b[0m\u001b[0;34m]\u001b[0m\u001b[0;34m)\u001b[0m\u001b[0;34m\u001b[0m\u001b[0m\n\u001b[0m\u001b[1;32m   1096\u001b[0m \u001b[0;34m\u001b[0m\u001b[0m\n\u001b[1;32m   1097\u001b[0m                 \u001b[0;32mreturn\u001b[0m \u001b[0mindexer\u001b[0m\u001b[0;34m\u001b[0m\u001b[0m\n",
        "\u001b[0;31mKeyError\u001b[0m: \"['VABS1' 'baseline_mean1' 'baseline_sd1' 'end_tx_mean1' 'end_tx_sd1'\\n 'final_mean1' 'final_sd1'] not in index\""
       ]
      }
     ],
     "prompt_number": 7
    },
    {
     "cell_type": "code",
     "collapsed": false,
     "input": [
      "long_vars.tail()"
     ],
     "language": "python",
     "metadata": {},
     "outputs": []
    },
    {
     "cell_type": "code",
     "collapsed": false,
     "input": [
      "vabs_long = vabs_data[vabs_data.columns[:21]].merge(long_vars, how='right', left_index=True, right_index=True)"
     ],
     "language": "python",
     "metadata": {},
     "outputs": []
    },
    {
     "cell_type": "code",
     "collapsed": false,
     "input": [
      "vabs_long.head()"
     ],
     "language": "python",
     "metadata": {},
     "outputs": [
      {
       "ename": "NameError",
       "evalue": "name 'vabs_long' is not defined",
       "output_type": "pyerr",
       "traceback": [
        "\u001b[0;31m---------------------------------------------------------------------------\u001b[0m\n\u001b[0;31mNameError\u001b[0m                                 Traceback (most recent call last)",
        "\u001b[0;32m<ipython-input-19-6883f7d67f96>\u001b[0m in \u001b[0;36m<module>\u001b[0;34m()\u001b[0m\n\u001b[0;32m----> 1\u001b[0;31m \u001b[0mvabs_long\u001b[0m\u001b[0;34m.\u001b[0m\u001b[0mhead\u001b[0m\u001b[0;34m(\u001b[0m\u001b[0;34m)\u001b[0m\u001b[0;34m\u001b[0m\u001b[0m\n\u001b[0m",
        "\u001b[0;31mNameError\u001b[0m: name 'vabs_long' is not defined"
       ]
      }
     ],
     "prompt_number": 19
    },
    {
     "cell_type": "code",
     "collapsed": false,
     "input": [
      "vabs_long = pd.read_csv(\"data/VABS_outcomes.csv\", index_col=0)"
     ],
     "language": "python",
     "metadata": {},
     "outputs": [],
     "prompt_number": 37
    },
    {
     "cell_type": "markdown",
     "metadata": {},
     "source": [
      "Confirm numeric types throughout"
     ]
    },
    {
     "cell_type": "code",
     "collapsed": false,
     "input": [
      "vabs_long.apply(lambda x: x.dtype)"
     ],
     "language": "python",
     "metadata": {},
     "outputs": [
      {
       "metadata": {},
       "output_type": "pyout",
       "prompt_number": 38,
       "text": [
        "obsid            object\n",
        "VABS             object\n",
        "VABS_name        object\n",
        "baseline_mean    object\n",
        "baseline_sd      object\n",
        "end_tx_mean      object\n",
        "end_tx_sd        object\n",
        "final_mean       object\n",
        "final_sd         object\n",
        "dtype: object"
       ]
      }
     ],
     "prompt_number": 38
    },
    {
     "cell_type": "markdown",
     "metadata": {},
     "source": [
      "Stripping pesky newline characters inside strings (!!)"
     ]
    },
    {
     "cell_type": "code",
     "collapsed": false,
     "input": [
      "vabs_data.group = vabs_data.group.apply(lambda x: ' '.join(str(x).splitlines())).replace({'nan': None})"
     ],
     "language": "python",
     "metadata": {},
     "outputs": [],
     "prompt_number": 39
    },
    {
     "cell_type": "markdown",
     "metadata": {},
     "source": [
      "Summaries of groups/arms and measures"
     ]
    },
    {
     "cell_type": "code",
     "collapsed": false,
     "input": [
      "vabs_data.group.value_counts()"
     ],
     "language": "python",
     "metadata": {},
     "outputs": [
      {
       "metadata": {},
       "output_type": "pyout",
       "prompt_number": 40,
       "text": [
        "EIBI                                      3\n",
        "Eclectic                                  3\n",
        "control / TAU                             2\n",
        "low intensity behavioral                  2\n",
        "ABA                                       2\n",
        "TAU                                       2\n",
        "Assess & Monitor group                    1\n",
        "Local authority approach                  1\n",
        "Special nursery                           1\n",
        "Parent training                           1\n",
        "ESDM                                      1\n",
        "Clinic base ABA                           1\n",
        "non-intensive public earl intervention    1\n",
        "Intensive Eclectic                        1\n",
        "Home-based  EIBI                          1\n",
        "Keyhole                                   1\n",
        "Portage                                   1\n",
        "Community based Rx                        1\n",
        "Clinic directed                           1\n",
        "ecletic                                   1\n",
        "PECS                                      1\n",
        "IBI                                       1\n",
        "P-ESDM                                    1\n",
        "Intensive Rx UCLA                         1\n",
        "Ecletic special ed                        1\n",
        "Control                                   1\n",
        "contrast                                  1\n",
        "intensive behavio analytic (IBT)          1\n",
        "EIBT-UCLA                                 1\n",
        "behavioral                                1\n",
        "Parent directed                           1\n",
        "HTMW                                      1\n",
        "LOVAAS based EIBI                         1\n",
        "center based EIBI                         1\n",
        "UCLA                                      1\n",
        "Paren manage ABA                          1\n",
        "Wait list                                 1\n",
        "PRT                                       1\n",
        "wait-list control                         1\n",
        "control                                   1\n",
        "dtype: int64"
       ]
      }
     ],
     "prompt_number": 40
    },
    {
     "cell_type": "code",
     "collapsed": false,
     "input": [
      "vabs_data.iq_measure = vabs_data.iq_measure.apply(lambda x: ' '.join(str(x).splitlines())).replace({'nan': None})"
     ],
     "language": "python",
     "metadata": {},
     "outputs": [],
     "prompt_number": 41
    },
    {
     "cell_type": "code",
     "collapsed": false,
     "input": [
      "vabs_data.iq_measure.value_counts()"
     ],
     "language": "python",
     "metadata": {},
     "outputs": [
      {
       "metadata": {},
       "output_type": "pyout",
       "prompt_number": 42,
       "text": [
        "PEP-R                                                           5\n",
        "IQ                                                              4\n",
        "Mullen                                                          4\n",
        "cognitive standard                                              3\n",
        "WPPSI or Stanford-Binet or Mullen                               2\n",
        "Full scale IQ                                                   2\n",
        "IQ-composite                                                    2\n",
        "BSID-II                                                         2\n",
        "Early Learning composite                                        2\n",
        "Ratio-IQ                                                        2\n",
        "Stanford-Binet Bayley scale                                     2\n",
        "composite                                                       2\n",
        "Wechsler Preschool and Primary Scale of Intelligence-Revised and Bayley Scales of Infant Development    2\n",
        "dtype: int64"
       ]
      }
     ],
     "prompt_number": 42
    },
    {
     "cell_type": "code",
     "collapsed": false,
     "input": [
      "vabs_long.VABS.value_counts()"
     ],
     "language": "python",
     "metadata": {},
     "outputs": [
      {
       "metadata": {},
       "output_type": "pyout",
       "prompt_number": 43,
       "text": [
        "2    43\n",
        "1    41\n",
        "4    40\n",
        "3    32\n",
        "5    13\n",
        "dtype: int64"
       ]
      }
     ],
     "prompt_number": 43
    },
    {
     "cell_type": "markdown",
     "metadata": {},
     "source": [
      "## Cognition"
     ]
    },
    {
     "cell_type": "code",
     "collapsed": false,
     "input": [
      "melt_vars = ['cognition_outcome',\n",
      "'tool',\n",
      "'baseline_mean',\n",
      "'baseline_sd',\n",
      "'end_tx_mean',\n",
      "'end_tx_sd',\n",
      "'final_mean',\n",
      "'final_sd',\n",
      "'change_mean',\n",
      "'change_sd']"
     ],
     "language": "python",
     "metadata": {},
     "outputs": [],
     "prompt_number": 7
    },
    {
     "cell_type": "markdown",
     "metadata": {},
     "source": [
      "Create variable names for each time period"
     ]
    },
    {
     "cell_type": "code",
     "collapsed": false,
     "input": [
      "all_melt_vars = [['{0}{1}'.format(varname,i) for varname in melt_vars] for i in range(1, 4)]"
     ],
     "language": "python",
     "metadata": {},
     "outputs": [],
     "prompt_number": 8
    },
    {
     "cell_type": "code",
     "collapsed": false,
     "input": [
      "varlist = []\n",
      "for i,v in enumerate(all_melt_vars):\n",
      "    chunk = cognition_data[v]\n",
      "    chunk.columns = melt_vars\n",
      "    chunk['time'] = i\n",
      "    varlist.append(chunk)\n",
      "long_vars = pd.concat(varlist)"
     ],
     "language": "python",
     "metadata": {},
     "outputs": [
      {
       "ename": "KeyError",
       "evalue": "\"['cognition_outcome1' 'tool1' 'baseline_mean1' 'baseline_sd1'\\n 'end_tx_mean1' 'end_tx_sd1' 'final_mean1' 'final_sd1' 'change_mean1'\\n 'change_sd1'] not in index\"",
       "output_type": "pyerr",
       "traceback": [
        "\u001b[0;31m---------------------------------------------------------------------------\u001b[0m\n\u001b[0;31mKeyError\u001b[0m                                  Traceback (most recent call last)",
        "\u001b[0;32m<ipython-input-9-c145a590cda6>\u001b[0m in \u001b[0;36m<module>\u001b[0;34m()\u001b[0m\n\u001b[1;32m      1\u001b[0m \u001b[0mvarlist\u001b[0m \u001b[0;34m=\u001b[0m \u001b[0;34m[\u001b[0m\u001b[0;34m]\u001b[0m\u001b[0;34m\u001b[0m\u001b[0m\n\u001b[1;32m      2\u001b[0m \u001b[0;32mfor\u001b[0m \u001b[0mi\u001b[0m\u001b[0;34m,\u001b[0m\u001b[0mv\u001b[0m \u001b[0;32min\u001b[0m \u001b[0menumerate\u001b[0m\u001b[0;34m(\u001b[0m\u001b[0mall_melt_vars\u001b[0m\u001b[0;34m)\u001b[0m\u001b[0;34m:\u001b[0m\u001b[0;34m\u001b[0m\u001b[0m\n\u001b[0;32m----> 3\u001b[0;31m     \u001b[0mchunk\u001b[0m \u001b[0;34m=\u001b[0m \u001b[0mcognition_data\u001b[0m\u001b[0;34m[\u001b[0m\u001b[0mv\u001b[0m\u001b[0;34m]\u001b[0m\u001b[0;34m\u001b[0m\u001b[0m\n\u001b[0m\u001b[1;32m      4\u001b[0m     \u001b[0mchunk\u001b[0m\u001b[0;34m.\u001b[0m\u001b[0mcolumns\u001b[0m \u001b[0;34m=\u001b[0m \u001b[0mmelt_vars\u001b[0m\u001b[0;34m\u001b[0m\u001b[0m\n\u001b[1;32m      5\u001b[0m     \u001b[0mchunk\u001b[0m\u001b[0;34m[\u001b[0m\u001b[0;34m'time'\u001b[0m\u001b[0;34m]\u001b[0m \u001b[0;34m=\u001b[0m \u001b[0mi\u001b[0m\u001b[0;34m\u001b[0m\u001b[0m\n",
        "\u001b[0;32m/Users/fonnescj/.virtualenvs/pymc2/lib/python2.7/site-packages/pandas-0.13.1_213_gc174c3d-py2.7-macosx-10.9-intel.egg/pandas/core/frame.pyc\u001b[0m in \u001b[0;36m__getitem__\u001b[0;34m(self, key)\u001b[0m\n\u001b[1;32m   1659\u001b[0m         \u001b[0;32mif\u001b[0m \u001b[0misinstance\u001b[0m\u001b[0;34m(\u001b[0m\u001b[0mkey\u001b[0m\u001b[0;34m,\u001b[0m \u001b[0;34m(\u001b[0m\u001b[0mSeries\u001b[0m\u001b[0;34m,\u001b[0m \u001b[0mnp\u001b[0m\u001b[0;34m.\u001b[0m\u001b[0mndarray\u001b[0m\u001b[0;34m,\u001b[0m \u001b[0mlist\u001b[0m\u001b[0;34m)\u001b[0m\u001b[0;34m)\u001b[0m\u001b[0;34m:\u001b[0m\u001b[0;34m\u001b[0m\u001b[0m\n\u001b[1;32m   1660\u001b[0m             \u001b[0;31m# either boolean or fancy integer index\u001b[0m\u001b[0;34m\u001b[0m\u001b[0;34m\u001b[0m\u001b[0m\n\u001b[0;32m-> 1661\u001b[0;31m             \u001b[0;32mreturn\u001b[0m \u001b[0mself\u001b[0m\u001b[0;34m.\u001b[0m\u001b[0m_getitem_array\u001b[0m\u001b[0;34m(\u001b[0m\u001b[0mkey\u001b[0m\u001b[0;34m)\u001b[0m\u001b[0;34m\u001b[0m\u001b[0m\n\u001b[0m\u001b[1;32m   1662\u001b[0m         \u001b[0;32melif\u001b[0m \u001b[0misinstance\u001b[0m\u001b[0;34m(\u001b[0m\u001b[0mkey\u001b[0m\u001b[0;34m,\u001b[0m \u001b[0mDataFrame\u001b[0m\u001b[0;34m)\u001b[0m\u001b[0;34m:\u001b[0m\u001b[0;34m\u001b[0m\u001b[0m\n\u001b[1;32m   1663\u001b[0m             \u001b[0;32mreturn\u001b[0m \u001b[0mself\u001b[0m\u001b[0;34m.\u001b[0m\u001b[0m_getitem_frame\u001b[0m\u001b[0;34m(\u001b[0m\u001b[0mkey\u001b[0m\u001b[0;34m)\u001b[0m\u001b[0;34m\u001b[0m\u001b[0m\n",
        "\u001b[0;32m/Users/fonnescj/.virtualenvs/pymc2/lib/python2.7/site-packages/pandas-0.13.1_213_gc174c3d-py2.7-macosx-10.9-intel.egg/pandas/core/frame.pyc\u001b[0m in \u001b[0;36m_getitem_array\u001b[0;34m(self, key)\u001b[0m\n\u001b[1;32m   1703\u001b[0m             \u001b[0;32mreturn\u001b[0m \u001b[0mself\u001b[0m\u001b[0;34m.\u001b[0m\u001b[0mtake\u001b[0m\u001b[0;34m(\u001b[0m\u001b[0mindexer\u001b[0m\u001b[0;34m,\u001b[0m \u001b[0maxis\u001b[0m\u001b[0;34m=\u001b[0m\u001b[0;36m0\u001b[0m\u001b[0;34m,\u001b[0m \u001b[0mconvert\u001b[0m\u001b[0;34m=\u001b[0m\u001b[0mFalse\u001b[0m\u001b[0;34m)\u001b[0m\u001b[0;34m\u001b[0m\u001b[0m\n\u001b[1;32m   1704\u001b[0m         \u001b[0;32melse\u001b[0m\u001b[0;34m:\u001b[0m\u001b[0;34m\u001b[0m\u001b[0m\n\u001b[0;32m-> 1705\u001b[0;31m             \u001b[0mindexer\u001b[0m \u001b[0;34m=\u001b[0m \u001b[0mself\u001b[0m\u001b[0;34m.\u001b[0m\u001b[0mix\u001b[0m\u001b[0;34m.\u001b[0m\u001b[0m_convert_to_indexer\u001b[0m\u001b[0;34m(\u001b[0m\u001b[0mkey\u001b[0m\u001b[0;34m,\u001b[0m \u001b[0maxis\u001b[0m\u001b[0;34m=\u001b[0m\u001b[0;36m1\u001b[0m\u001b[0;34m)\u001b[0m\u001b[0;34m\u001b[0m\u001b[0m\n\u001b[0m\u001b[1;32m   1706\u001b[0m             \u001b[0;32mreturn\u001b[0m \u001b[0mself\u001b[0m\u001b[0;34m.\u001b[0m\u001b[0mtake\u001b[0m\u001b[0;34m(\u001b[0m\u001b[0mindexer\u001b[0m\u001b[0;34m,\u001b[0m \u001b[0maxis\u001b[0m\u001b[0;34m=\u001b[0m\u001b[0;36m1\u001b[0m\u001b[0;34m,\u001b[0m \u001b[0mconvert\u001b[0m\u001b[0;34m=\u001b[0m\u001b[0mTrue\u001b[0m\u001b[0;34m)\u001b[0m\u001b[0;34m\u001b[0m\u001b[0m\n\u001b[1;32m   1707\u001b[0m \u001b[0;34m\u001b[0m\u001b[0m\n",
        "\u001b[0;32m/Users/fonnescj/.virtualenvs/pymc2/lib/python2.7/site-packages/pandas-0.13.1_213_gc174c3d-py2.7-macosx-10.9-intel.egg/pandas/core/indexing.pyc\u001b[0m in \u001b[0;36m_convert_to_indexer\u001b[0;34m(self, obj, axis, is_setter)\u001b[0m\n\u001b[1;32m   1093\u001b[0m                     \u001b[0;32mif\u001b[0m \u001b[0misinstance\u001b[0m\u001b[0;34m(\u001b[0m\u001b[0mobj\u001b[0m\u001b[0;34m,\u001b[0m \u001b[0mtuple\u001b[0m\u001b[0;34m)\u001b[0m \u001b[0;32mand\u001b[0m \u001b[0mis_setter\u001b[0m\u001b[0;34m:\u001b[0m\u001b[0;34m\u001b[0m\u001b[0m\n\u001b[1;32m   1094\u001b[0m                         \u001b[0;32mreturn\u001b[0m \u001b[0;34m{\u001b[0m\u001b[0;34m'key'\u001b[0m\u001b[0;34m:\u001b[0m \u001b[0mobj\u001b[0m\u001b[0;34m}\u001b[0m\u001b[0;34m\u001b[0m\u001b[0m\n\u001b[0;32m-> 1095\u001b[0;31m                     \u001b[0;32mraise\u001b[0m \u001b[0mKeyError\u001b[0m\u001b[0;34m(\u001b[0m\u001b[0;34m'%s not in index'\u001b[0m \u001b[0;34m%\u001b[0m \u001b[0mobjarr\u001b[0m\u001b[0;34m[\u001b[0m\u001b[0mmask\u001b[0m\u001b[0;34m]\u001b[0m\u001b[0;34m)\u001b[0m\u001b[0;34m\u001b[0m\u001b[0m\n\u001b[0m\u001b[1;32m   1096\u001b[0m \u001b[0;34m\u001b[0m\u001b[0m\n\u001b[1;32m   1097\u001b[0m                 \u001b[0;32mreturn\u001b[0m \u001b[0mindexer\u001b[0m\u001b[0;34m\u001b[0m\u001b[0m\n",
        "\u001b[0;31mKeyError\u001b[0m: \"['cognition_outcome1' 'tool1' 'baseline_mean1' 'baseline_sd1'\\n 'end_tx_mean1' 'end_tx_sd1' 'final_mean1' 'final_sd1' 'change_mean1'\\n 'change_sd1'] not in index\""
       ]
      }
     ],
     "prompt_number": 9
    },
    {
     "cell_type": "code",
     "collapsed": false,
     "input": [
      "long_vars.ix[2]"
     ],
     "language": "python",
     "metadata": {},
     "outputs": []
    },
    {
     "cell_type": "code",
     "collapsed": false,
     "input": [
      "cognition_long = cognition_data[cognition_data.columns[:21]].merge(long_vars, how='right', left_index=True, right_index=True)"
     ],
     "language": "python",
     "metadata": {},
     "outputs": []
    },
    {
     "cell_type": "code",
     "collapsed": false,
     "input": [
      "cognition_long = pd.read_csv('data/Cognition_outcomes.csv', index_col=0) "
     ],
     "language": "python",
     "metadata": {},
     "outputs": [],
     "prompt_number": 28
    },
    {
     "cell_type": "code",
     "collapsed": false,
     "input": [
      "cognition_long.head()"
     ],
     "language": "python",
     "metadata": {},
     "outputs": [
      {
       "html": [
        "<div style=\"max-height:1000px;max-width:1500px;overflow:auto;\">\n",
        "<table border=\"1\" class=\"dataframe\">\n",
        "  <thead>\n",
        "    <tr style=\"text-align: right;\">\n",
        "      <th></th>\n",
        "      <th>obsid</th>\n",
        "      <th>cognition_outcome</th>\n",
        "      <th>tool</th>\n",
        "      <th>baseline_mean</th>\n",
        "      <th>baseline_sd</th>\n",
        "      <th>end_tx_mean</th>\n",
        "      <th>end_tx_sd</th>\n",
        "      <th>final_mean</th>\n",
        "      <th>final_sd</th>\n",
        "      <th>change_mean</th>\n",
        "      <th>change_sd</th>\n",
        "    </tr>\n",
        "    <tr>\n",
        "      <th>outcomeid</th>\n",
        "      <th></th>\n",
        "      <th></th>\n",
        "      <th></th>\n",
        "      <th></th>\n",
        "      <th></th>\n",
        "      <th></th>\n",
        "      <th></th>\n",
        "      <th></th>\n",
        "      <th></th>\n",
        "      <th></th>\n",
        "      <th></th>\n",
        "    </tr>\n",
        "  </thead>\n",
        "  <tbody>\n",
        "    <tr>\n",
        "      <th>1</th>\n",
        "      <td> 1</td>\n",
        "      <td>                       IQ</td>\n",
        "      <td> Stanford-Binet and Bayley scale</td>\n",
        "      <td> 61.43</td>\n",
        "      <td> 16.43</td>\n",
        "      <td> 73.48</td>\n",
        "      <td> 27.28</td>\n",
        "      <td> 64.65</td>\n",
        "      <td> 33.04</td>\n",
        "      <td> NaN</td>\n",
        "      <td>NaN</td>\n",
        "    </tr>\n",
        "    <tr>\n",
        "      <th>2</th>\n",
        "      <td> 2</td>\n",
        "      <td>                       IQ</td>\n",
        "      <td> Stanford-Binet and Bayley scale</td>\n",
        "      <td> 63.83</td>\n",
        "      <td> 13.98</td>\n",
        "      <td> 61.00</td>\n",
        "      <td> 27.30</td>\n",
        "      <td> 61.94</td>\n",
        "      <td> 31.09</td>\n",
        "      <td> NaN</td>\n",
        "      <td>NaN</td>\n",
        "    </tr>\n",
        "    <tr>\n",
        "      <th>3</th>\n",
        "      <td> 3</td>\n",
        "      <td> Early learning composite</td>\n",
        "      <td>                          Mullen</td>\n",
        "      <td> 59.60</td>\n",
        "      <td>  6.90</td>\n",
        "      <td> 68.50</td>\n",
        "      <td>  7.50</td>\n",
        "      <td>   NaN</td>\n",
        "      <td>   NaN</td>\n",
        "      <td> 8.9</td>\n",
        "      <td>NaN</td>\n",
        "    </tr>\n",
        "    <tr>\n",
        "      <th>4</th>\n",
        "      <td> 4</td>\n",
        "      <td> Early learning composite</td>\n",
        "      <td>                          Mullen</td>\n",
        "      <td> 63.20</td>\n",
        "      <td>  6.60</td>\n",
        "      <td> 61.40</td>\n",
        "      <td>  9.00</td>\n",
        "      <td>   NaN</td>\n",
        "      <td>   NaN</td>\n",
        "      <td>-1.8</td>\n",
        "      <td>NaN</td>\n",
        "    </tr>\n",
        "    <tr>\n",
        "      <th>5</th>\n",
        "      <td> 5</td>\n",
        "      <td> Intellectual functioning</td>\n",
        "      <td>           BSID, SB:FE, Weschler</td>\n",
        "      <td> 51.60</td>\n",
        "      <td> 16.90</td>\n",
        "      <td>   NaN</td>\n",
        "      <td>   NaN</td>\n",
        "      <td> 66.60</td>\n",
        "      <td> 24.80</td>\n",
        "      <td> NaN</td>\n",
        "      <td>NaN</td>\n",
        "    </tr>\n",
        "  </tbody>\n",
        "</table>\n",
        "<p>5 rows \u00d7 11 columns</p>\n",
        "</div>"
       ],
       "metadata": {},
       "output_type": "pyout",
       "prompt_number": 29,
       "text": [
        "           obsid         cognition_outcome                             tool  \\\n",
        "outcomeid                                                                     \n",
        "1              1                        IQ  Stanford-Binet and Bayley scale   \n",
        "2              2                        IQ  Stanford-Binet and Bayley scale   \n",
        "3              3  Early learning composite                           Mullen   \n",
        "4              4  Early learning composite                           Mullen   \n",
        "5              5  Intellectual functioning            BSID, SB:FE, Weschler   \n",
        "\n",
        "           baseline_mean  baseline_sd  end_tx_mean  end_tx_sd  final_mean  \\\n",
        "outcomeid                                                                   \n",
        "1                  61.43        16.43        73.48      27.28       64.65   \n",
        "2                  63.83        13.98        61.00      27.30       61.94   \n",
        "3                  59.60         6.90        68.50       7.50         NaN   \n",
        "4                  63.20         6.60        61.40       9.00         NaN   \n",
        "5                  51.60        16.90          NaN        NaN       66.60   \n",
        "\n",
        "           final_sd  change_mean  change_sd  \n",
        "outcomeid                                    \n",
        "1             33.04          NaN        NaN  \n",
        "2             31.09          NaN        NaN  \n",
        "3               NaN          8.9        NaN  \n",
        "4               NaN         -1.8        NaN  \n",
        "5             24.80          NaN        NaN  \n",
        "\n",
        "[5 rows x 11 columns]"
       ]
      }
     ],
     "prompt_number": 29
    },
    {
     "cell_type": "code",
     "collapsed": false,
     "input": [
      "cognition_long.tool = cognition_long.tool.apply(lambda x: ' '.join(str(x).splitlines())).replace({'nan': None})"
     ],
     "language": "python",
     "metadata": {},
     "outputs": [],
     "prompt_number": 30
    },
    {
     "cell_type": "code",
     "collapsed": false,
     "input": [
      "cognition_long.cognition_outcome = cognition_long.cognition_outcome.apply(lambda x: ' '.join(str(x).splitlines())).replace({'nan': None})"
     ],
     "language": "python",
     "metadata": {},
     "outputs": [],
     "prompt_number": 31
    },
    {
     "cell_type": "markdown",
     "metadata": {},
     "source": [
      "Confirm numeric types throughout"
     ]
    },
    {
     "cell_type": "code",
     "collapsed": false,
     "input": [
      "cognition_long.apply(lambda x: x.dtype)"
     ],
     "language": "python",
     "metadata": {},
     "outputs": [
      {
       "metadata": {},
       "output_type": "pyout",
       "prompt_number": 32,
       "text": [
        "obsid                object\n",
        "cognition_outcome    object\n",
        "tool                 object\n",
        "baseline_mean        object\n",
        "baseline_sd          object\n",
        "end_tx_mean          object\n",
        "end_tx_sd            object\n",
        "final_mean           object\n",
        "final_sd             object\n",
        "change_mean          object\n",
        "change_sd            object\n",
        "dtype: object"
       ]
      }
     ],
     "prompt_number": 32
    },
    {
     "cell_type": "code",
     "collapsed": false,
     "input": [
      "cognition_data.group = cognition_data.group.apply(lambda x: ' '.join(str(x).splitlines())).replace({'nan': None})"
     ],
     "language": "python",
     "metadata": {},
     "outputs": [],
     "prompt_number": 33
    },
    {
     "cell_type": "code",
     "collapsed": false,
     "input": [
      "cognition_data.group.value_counts()"
     ],
     "language": "python",
     "metadata": {},
     "outputs": [
      {
       "metadata": {},
       "output_type": "pyout",
       "prompt_number": 34,
       "text": [
        "Eclectic                                       4\n",
        "EIBI                                           3\n",
        "ABA                                            3\n",
        "TAU                                            3\n",
        "Parent training                                2\n",
        "control / TAU                                  2\n",
        "Preschool Autism Communication Trial [PACT]    1\n",
        "Community based Rx                             1\n",
        "Portage                                        1\n",
        "intensive behavior analytic (IBT)              1\n",
        "UCLA                                           1\n",
        "Intensive Rx- UCLA                             1\n",
        "Intensive Eclectic                             1\n",
        "Clinic directed                                1\n",
        "Interpersonal Synchrony (IS)                   1\n",
        "Assess & Monitor group                         1\n",
        "non-intensive public early intervention        1\n",
        "Parent managed ABA                             1\n",
        "Local authority approach                       1\n",
        "P-ESDM                                         1\n",
        "Special nursery                                1\n",
        "Control                                        1\n",
        "EIBT-UCLA                                      1\n",
        "low intensity behavioral                       1\n",
        "Parent directed                                1\n",
        "HTMW                                           1\n",
        "Low intensity behavioral                       1\n",
        "Local services                                 1\n",
        "intervention manuals only                      1\n",
        "LEAP                                           1\n",
        "Clinic based ABA                               1\n",
        "behavioral                                     1\n",
        "eclectic                                       1\n",
        "ESDM                                           1\n",
        "Non-IS                                         1\n",
        "control                                        1\n",
        "dtype: int64"
       ]
      }
     ],
     "prompt_number": 34
    },
    {
     "cell_type": "code",
     "collapsed": false,
     "input": [
      "cognition_long.tool.value_counts()"
     ],
     "language": "python",
     "metadata": {},
     "outputs": [
      {
       "metadata": {},
       "output_type": "pyout",
       "prompt_number": 35,
       "text": [
        "MSEL                                    24\n",
        "Mullen                                  12\n",
        "Merrill-Palmer                           8\n",
        "composite                                5\n",
        "PEP-R                                    4\n",
        "Stanford Binet and BSID-II               2\n",
        "Bayley and WPPSI-R                       2\n",
        "Bayley, Merrill-Palmer                   2\n",
        "Bayley, Stanford-Binet                   2\n",
        "Stanford-Binet and Bayley scale          2\n",
        "MPSMT                                    2\n",
        "Griffith mental developmental scales     2\n",
        "BSID-II                                  2\n",
        "GSID                                     2\n",
        "WPPSI-R/WISC-R/BSID                      2\n",
        "Bayley                                   2\n",
        "Bayley-Dutch version                     2\n",
        "BSID, SB:FE, Weschler                    2\n",
        "Bayley and Merrill-Palmer                2\n",
        "Merrill Palmer                           1\n",
        "dtype: int64"
       ]
      }
     ],
     "prompt_number": 35
    },
    {
     "cell_type": "code",
     "collapsed": false,
     "input": [
      "cognition_long.cognition_outcome.value_counts()"
     ],
     "language": "python",
     "metadata": {},
     "outputs": [
      {
       "metadata": {},
       "output_type": "pyout",
       "prompt_number": 36,
       "text": [
        "IQ                               10\n",
        "Intellectual functioning          8\n",
        "Expressive language               6\n",
        "Fine motor                        4\n",
        "Receptive language                4\n",
        "cognitive standard                3\n",
        "Non-verbal                        3\n",
        "Performance IQ                    2\n",
        "GMDS-ER GQ                        2\n",
        "Nonverbal IQ                      2\n",
        "Full scale IQ                     2\n",
        "mental age                        2\n",
        "Visual reception                  2\n",
        "DQ                                2\n",
        "Early Learning composite          2\n",
        "MDI                               2\n",
        "Non-verbal intelligence           2\n",
        "non-verbal IQ                     2\n",
        "non-verbal cognition (VR)         2\n",
        "Developmental age                 2\n",
        "Language and communication        2\n",
        "Reciprocal social interaction     2\n",
        "Expressive language age           2\n",
        "dev age                           2\n",
        "Visual-spatial IQ                 2\n",
        "Visual                            2\n",
        "Receptive Language                2\n",
        "Early learning composite          2\n",
        "Non-verbal IQ                     1\n",
        "Non-Verbal IQ                     1\n",
        "dtype: int64"
       ]
      }
     ],
     "prompt_number": 36
    },
    {
     "cell_type": "code",
     "collapsed": false,
     "input": [],
     "language": "python",
     "metadata": {},
     "outputs": []
    }
   ],
   "metadata": {}
  }
 ]
}