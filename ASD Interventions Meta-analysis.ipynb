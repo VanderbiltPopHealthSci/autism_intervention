{
 "metadata": {
  "name": "",
  "signature": "sha256:8d3f5a623ffa93ee41cc9d6bdd1d6a4b8d70dfc689907518bdbad630a66bad62"
 },
 "nbformat": 3,
 "nbformat_minor": 0,
 "worksheets": [
  {
   "cells": [
    {
     "cell_type": "code",
     "collapsed": false,
     "input": [
      "%matplotlib inline\n",
      "import numpy as np\n",
      "import pandas as pd\n",
      "import matplotlib.pyplot as plt"
     ],
     "language": "python",
     "metadata": {},
     "outputs": [],
     "prompt_number": 43
    },
    {
     "cell_type": "code",
     "collapsed": false,
     "input": [
      "vabs = pd.read_csv('data/VABS.csv', na_values=['NR', 'see comment', 'nr'], index_col=0)\n",
      "cognition = pd.read_csv('data/Cognition.csv', \n",
      "                             na_values=['NR', 'nr', 'Varied see comment', 'Varied', 'see comment'],\n",
      "                             index_col=0)"
     ],
     "language": "python",
     "metadata": {},
     "outputs": [],
     "prompt_number": 44
    },
    {
     "cell_type": "code",
     "collapsed": false,
     "input": [
      "vabs_outcomes = pd.read_csv(\"data/VABS_outcomes.csv\", index_col=0)\n",
      "cognition_outcomes = pd.read_csv('data/Cognition_outcomes.csv', index_col=0) "
     ],
     "language": "python",
     "metadata": {},
     "outputs": [],
     "prompt_number": 45
    },
    {
     "cell_type": "code",
     "collapsed": false,
     "input": [
      "# replace some values\n",
      "vabs = vabs.replace({'immed': 0})\n",
      "vabs.time_to_last_fup = vabs.time_to_last_fup.replace({'3m':3}).astype(float)\n",
      "\n",
      "vabs.iq_mean = vabs.iq_mean.replace({'composite': np.nan})\n",
      "vabs.iq_mean = vabs.iq_mean.astype(float)\n",
      "\n",
      "cognition = cognition.replace({'immed': 0})\n",
      "cognition.time_to_last_fup = cognition.time_to_last_fup.astype(float)"
     ],
     "language": "python",
     "metadata": {},
     "outputs": [],
     "prompt_number": 46
    },
    {
     "cell_type": "markdown",
     "metadata": {},
     "source": [
      "Missing diagnosis values should be zero"
     ]
    },
    {
     "cell_type": "code",
     "collapsed": false,
     "input": [
      "diagnoses = ['diagnosis_autism', 'diagnosis_pdd-nos', 'diagnosis_asperger', 'diagnosis_other']\n",
      "cognition[diagnoses] = cognition[diagnoses].fillna(0)"
     ],
     "language": "python",
     "metadata": {},
     "outputs": [],
     "prompt_number": 47
    },
    {
     "cell_type": "code",
     "collapsed": false,
     "input": [
      "cognition_outcomes.cognition_outcome = cognition_outcomes.cognition_outcome.replace(\n",
      "                    ['IQ', 'Early learning composite', 'Intellectual functioning',\n",
      "                    'MDI', 'cognitive standard', 'Full scale IQ',\n",
      "                    'DQ', 'GMDS-ER GQ', 'Early Learning composite'], 'IQ Standard Score') \n",
      "\n",
      "cognition_outcomes.cognition_outcome = cognition_outcomes.cognition_outcome.replace(\n",
      "                    ['mental age', 'dev age', 'Developmental age'], 'IQ Age Scale')\n",
      "\n",
      "cognition_outcomes.cognition_outcome = cognition_outcomes.cognition_outcome.replace(\n",
      "                    ['Non-Verbal IQ', 'non-verbal IQ', 'Performance IQ',\n",
      "                    'Nonverbal IQ', 'Non-verbal', 'Non-verbal intelligence', \n",
      "                    'non-verbal cognition (VR)', 'Visual', 'Visual-spatial IQ', \n",
      "                    'Visual reception'], 'Non-verbal IQ')\n",
      "\n",
      "cognition_outcomes.cognition_outcome = cognition_outcomes.cognition_outcome.replace('Fine motor', \n",
      "                                                                                    'Motor IQ')\n",
      "\n",
      "cognition_outcomes.cognition_outcome = cognition_outcomes.cognition_outcome.replace(\n",
      "                    ['Receptive Language', 'Receptive language', 'Expressive language'], \n",
      "                    'Language IQ')\n",
      "\n",
      "cognition_outcomes.cognition_outcome = cognition_outcomes.cognition_outcome.replace(\n",
      "                    'Expressive language age', 'Language Age Scale')"
     ],
     "language": "python",
     "metadata": {},
     "outputs": [],
     "prompt_number": 48
    },
    {
     "cell_type": "markdown",
     "metadata": {},
     "source": [
      "Drop outcomes that cannot be categorized"
     ]
    },
    {
     "cell_type": "code",
     "collapsed": false,
     "input": [
      "cognition_outcomes = cognition_outcomes[cognition_outcomes.cognition_outcome.isin(\n",
      "    ['Language and communication', 'Reciprocal social interaction']) - True]"
     ],
     "language": "python",
     "metadata": {},
     "outputs": [],
     "prompt_number": 49
    },
    {
     "cell_type": "markdown",
     "metadata": {},
     "source": [
      "Drop null outcomes"
     ]
    },
    {
     "cell_type": "code",
     "collapsed": false,
     "input": [
      "cognition_outcomes = cognition_outcomes[cognition_outcomes.cognition_outcome.notnull()]"
     ],
     "language": "python",
     "metadata": {},
     "outputs": [],
     "prompt_number": 53
    },
    {
     "cell_type": "markdown",
     "metadata": {},
     "source": [
      "Confirm replacement of values"
     ]
    },
    {
     "cell_type": "code",
     "collapsed": false,
     "input": [
      "cognition_outcomes.cognition_outcome.unique()"
     ],
     "language": "python",
     "metadata": {},
     "outputs": [
      {
       "metadata": {},
       "output_type": "pyout",
       "prompt_number": 77,
       "text": [
        "array(['IQ Standard Score', 'Language Age Scale', 'Language IQ',\n",
        "       'Non-verbal IQ', 'IQ Age Scale', 'Motor IQ'], dtype=object)"
       ]
      }
     ],
     "prompt_number": 77
    },
    {
     "cell_type": "markdown",
     "metadata": {},
     "source": [
      "## VABS"
     ]
    },
    {
     "cell_type": "markdown",
     "metadata": {},
     "source": [
      "Confirm numeric types throughout"
     ]
    },
    {
     "cell_type": "code",
     "collapsed": false,
     "input": [
      "vabs_outcomes.dtypes"
     ],
     "language": "python",
     "metadata": {},
     "outputs": [
      {
       "metadata": {},
       "output_type": "pyout",
       "prompt_number": 54,
       "text": [
        "obsid              int64\n",
        "VABS               int64\n",
        "VABS_name         object\n",
        "baseline_mean    float64\n",
        "baseline_sd      float64\n",
        "end_tx_mean      float64\n",
        "end_tx_sd        float64\n",
        "final_mean       float64\n",
        "final_sd         float64\n",
        "dtype: object"
       ]
      }
     ],
     "prompt_number": 54
    },
    {
     "cell_type": "markdown",
     "metadata": {},
     "source": [
      "Summaries of groups/arms and measures"
     ]
    },
    {
     "cell_type": "code",
     "collapsed": false,
     "input": [
      "vabs.iq_measure.value_counts()"
     ],
     "language": "python",
     "metadata": {},
     "outputs": [
      {
       "metadata": {},
       "output_type": "pyout",
       "prompt_number": 55,
       "text": [
        "PEP-R                                                           5\n",
        "IQ                                                              4\n",
        "Mullen                                                          4\n",
        "cognitive standard                                              3\n",
        "WPPSI or Stanford-Binet or Mullen                               2\n",
        "Full scale IQ                                                   2\n",
        "IQ-composite                                                    2\n",
        "BSID-II                                                         2\n",
        "Early Learning composite                                        2\n",
        "Ratio-IQ                                                        2\n",
        "Stanford-Binet Bayley scale                                     2\n",
        "composite                                                       2\n",
        "Wechsler Preschool and Primary Scale of Intelligence-Revised and Bayley Scales of Infant Development    2\n",
        "dtype: int64"
       ]
      }
     ],
     "prompt_number": 55
    },
    {
     "cell_type": "code",
     "collapsed": false,
     "input": [
      "vabs_outcomes.VABS.value_counts()"
     ],
     "language": "python",
     "metadata": {},
     "outputs": [
      {
       "metadata": {},
       "output_type": "pyout",
       "prompt_number": 56,
       "text": [
        "2    43\n",
        "1    41\n",
        "4    40\n",
        "3    32\n",
        "5    13\n",
        "dtype: int64"
       ]
      }
     ],
     "prompt_number": 56
    },
    {
     "cell_type": "markdown",
     "metadata": {},
     "source": [
      "## Cognition"
     ]
    },
    {
     "cell_type": "code",
     "collapsed": false,
     "input": [
      "cognition_outcomes.head()"
     ],
     "language": "python",
     "metadata": {},
     "outputs": [
      {
       "html": [
        "<div style=\"max-height:1000px;max-width:1500px;overflow:auto;\">\n",
        "<table border=\"1\" class=\"dataframe\">\n",
        "  <thead>\n",
        "    <tr style=\"text-align: right;\">\n",
        "      <th></th>\n",
        "      <th>obsid</th>\n",
        "      <th>cognition_outcome</th>\n",
        "      <th>tool</th>\n",
        "      <th>baseline_mean</th>\n",
        "      <th>baseline_sd</th>\n",
        "      <th>end_tx_mean</th>\n",
        "      <th>end_tx_sd</th>\n",
        "      <th>final_mean</th>\n",
        "      <th>final_sd</th>\n",
        "      <th>change_mean</th>\n",
        "      <th>change_sd</th>\n",
        "    </tr>\n",
        "    <tr>\n",
        "      <th>outcomeid</th>\n",
        "      <th></th>\n",
        "      <th></th>\n",
        "      <th></th>\n",
        "      <th></th>\n",
        "      <th></th>\n",
        "      <th></th>\n",
        "      <th></th>\n",
        "      <th></th>\n",
        "      <th></th>\n",
        "      <th></th>\n",
        "      <th></th>\n",
        "    </tr>\n",
        "  </thead>\n",
        "  <tbody>\n",
        "    <tr>\n",
        "      <th>1</th>\n",
        "      <td> 1</td>\n",
        "      <td> IQ Standard Score</td>\n",
        "      <td> Stanford-Binet and Bayley scale</td>\n",
        "      <td> 61.43</td>\n",
        "      <td> 16.43</td>\n",
        "      <td> 73.48</td>\n",
        "      <td> 27.28</td>\n",
        "      <td> 64.65</td>\n",
        "      <td> 33.04</td>\n",
        "      <td> NaN</td>\n",
        "      <td>NaN</td>\n",
        "    </tr>\n",
        "    <tr>\n",
        "      <th>2</th>\n",
        "      <td> 2</td>\n",
        "      <td> IQ Standard Score</td>\n",
        "      <td> Stanford-Binet and Bayley scale</td>\n",
        "      <td> 63.83</td>\n",
        "      <td> 13.98</td>\n",
        "      <td> 61.00</td>\n",
        "      <td> 27.30</td>\n",
        "      <td> 61.94</td>\n",
        "      <td> 31.09</td>\n",
        "      <td> NaN</td>\n",
        "      <td>NaN</td>\n",
        "    </tr>\n",
        "    <tr>\n",
        "      <th>3</th>\n",
        "      <td> 3</td>\n",
        "      <td> IQ Standard Score</td>\n",
        "      <td>                          Mullen</td>\n",
        "      <td> 59.60</td>\n",
        "      <td>  6.90</td>\n",
        "      <td> 68.50</td>\n",
        "      <td>  7.50</td>\n",
        "      <td>   NaN</td>\n",
        "      <td>   NaN</td>\n",
        "      <td> 8.9</td>\n",
        "      <td>NaN</td>\n",
        "    </tr>\n",
        "    <tr>\n",
        "      <th>4</th>\n",
        "      <td> 4</td>\n",
        "      <td> IQ Standard Score</td>\n",
        "      <td>                          Mullen</td>\n",
        "      <td> 63.20</td>\n",
        "      <td>  6.60</td>\n",
        "      <td> 61.40</td>\n",
        "      <td>  9.00</td>\n",
        "      <td>   NaN</td>\n",
        "      <td>   NaN</td>\n",
        "      <td>-1.8</td>\n",
        "      <td>NaN</td>\n",
        "    </tr>\n",
        "    <tr>\n",
        "      <th>5</th>\n",
        "      <td> 5</td>\n",
        "      <td> IQ Standard Score</td>\n",
        "      <td>           BSID, SB:FE, Weschler</td>\n",
        "      <td> 51.60</td>\n",
        "      <td> 16.90</td>\n",
        "      <td>   NaN</td>\n",
        "      <td>   NaN</td>\n",
        "      <td> 66.60</td>\n",
        "      <td> 24.80</td>\n",
        "      <td> NaN</td>\n",
        "      <td>NaN</td>\n",
        "    </tr>\n",
        "  </tbody>\n",
        "</table>\n",
        "<p>5 rows \u00d7 11 columns</p>\n",
        "</div>"
       ],
       "metadata": {},
       "output_type": "pyout",
       "prompt_number": 57,
       "text": [
        "           obsid  cognition_outcome                             tool  \\\n",
        "outcomeid                                                              \n",
        "1              1  IQ Standard Score  Stanford-Binet and Bayley scale   \n",
        "2              2  IQ Standard Score  Stanford-Binet and Bayley scale   \n",
        "3              3  IQ Standard Score                           Mullen   \n",
        "4              4  IQ Standard Score                           Mullen   \n",
        "5              5  IQ Standard Score            BSID, SB:FE, Weschler   \n",
        "\n",
        "           baseline_mean  baseline_sd  end_tx_mean  end_tx_sd  final_mean  \\\n",
        "outcomeid                                                                   \n",
        "1                  61.43        16.43        73.48      27.28       64.65   \n",
        "2                  63.83        13.98        61.00      27.30       61.94   \n",
        "3                  59.60         6.90        68.50       7.50         NaN   \n",
        "4                  63.20         6.60        61.40       9.00         NaN   \n",
        "5                  51.60        16.90          NaN        NaN       66.60   \n",
        "\n",
        "           final_sd  change_mean  change_sd  \n",
        "outcomeid                                    \n",
        "1             33.04          NaN        NaN  \n",
        "2             31.09          NaN        NaN  \n",
        "3               NaN          8.9        NaN  \n",
        "4               NaN         -1.8        NaN  \n",
        "5             24.80          NaN        NaN  \n",
        "\n",
        "[5 rows x 11 columns]"
       ]
      }
     ],
     "prompt_number": 57
    },
    {
     "cell_type": "markdown",
     "metadata": {},
     "source": [
      "Confirm numeric types throughout"
     ]
    },
    {
     "cell_type": "code",
     "collapsed": false,
     "input": [
      "cognition_outcomes.dtypes"
     ],
     "language": "python",
     "metadata": {},
     "outputs": [
      {
       "metadata": {},
       "output_type": "pyout",
       "prompt_number": 58,
       "text": [
        "obsid                  int64\n",
        "cognition_outcome     object\n",
        "tool                  object\n",
        "baseline_mean        float64\n",
        "baseline_sd          float64\n",
        "end_tx_mean          float64\n",
        "end_tx_sd            float64\n",
        "final_mean           float64\n",
        "final_sd             float64\n",
        "change_mean          float64\n",
        "change_sd            float64\n",
        "dtype: object"
       ]
      }
     ],
     "prompt_number": 58
    },
    {
     "cell_type": "code",
     "collapsed": false,
     "input": [
      "cognition.treatment.value_counts()"
     ],
     "language": "python",
     "metadata": {},
     "outputs": [
      {
       "metadata": {},
       "output_type": "pyout",
       "prompt_number": 59,
       "text": [
        "Eclectic                                        4\n",
        "EIBI                                            3\n",
        "ABA                                             3\n",
        "TAU                                             3\n",
        "control / TAU                                   2\n",
        "Parent training                                 2\n",
        "Clinic directed                                 1\n",
        "Special nursery                                 1\n",
        "Low intensity behavioral                        1\n",
        "Assess & Monitor group                          1\n",
        "Interpersonal Synchrony (IS)                    1\n",
        "Intensive Eclectic                              1\n",
        "P-ESDM                                          1\n",
        "UCLA                                            1\n",
        "Local authority approach                        1\n",
        "Portage                                         1\n",
        "Community based Rx                              1\n",
        "Preschool Autism Communication\\nTrial [PACT]    1\n",
        "LEAP                                            1\n",
        "Control                                         1\n",
        "Parent\\nmanaged\\nABA                            1\n",
        "Clinic based\\nABA                               1\n",
        "EIBT-UCLA                                       1\n",
        "low intensity behavioral                        1\n",
        "non-intensive public early\\nintervention        1\n",
        "HTMW                                            1\n",
        "Local services                                  1\n",
        "Parent directed                                 1\n",
        "intervention manuals only                       1\n",
        "intensive behavior\\nanalytic (IBT)              1\n",
        "behavioral                                      1\n",
        "eclectic                                        1\n",
        "ESDM                                            1\n",
        "Intensive Rx-\\nUCLA                             1\n",
        "Non-IS                                          1\n",
        "control                                         1\n",
        "dtype: int64"
       ]
      }
     ],
     "prompt_number": 59
    },
    {
     "cell_type": "code",
     "collapsed": false,
     "input": [
      "cognition_outcomes.tool.value_counts()"
     ],
     "language": "python",
     "metadata": {},
     "outputs": [
      {
       "metadata": {},
       "output_type": "pyout",
       "prompt_number": 60,
       "text": [
        "MSEL                                    24\n",
        "Mullen                                   8\n",
        "Merrill-Palmer                           8\n",
        "composite                                5\n",
        "PEP-R                                    4\n",
        "Stanford Binet and BSID-II               2\n",
        "Bayley and WPPSI-R                       2\n",
        "Bayley, Merrill-Palmer                   2\n",
        "Bayley, Stanford-Binet                   2\n",
        "Stanford-Binet and Bayley scale          2\n",
        "MPSMT                                    2\n",
        "Griffith mental developmental scales     2\n",
        "BSID-II                                  2\n",
        "GSID                                     2\n",
        "WPPSI-R/WISC-R/BSID                      2\n",
        "Bayley                                   2\n",
        "Bayley-Dutch version                     2\n",
        "BSID, SB:FE, Weschler                    2\n",
        "Bayley and Merrill-Palmer                2\n",
        "Merrill Palmer                           1\n",
        "dtype: int64"
       ]
      }
     ],
     "prompt_number": 60
    },
    {
     "cell_type": "code",
     "collapsed": false,
     "input": [
      "cognition_outcomes.cognition_outcome.value_counts()"
     ],
     "language": "python",
     "metadata": {},
     "outputs": [
      {
       "metadata": {},
       "output_type": "pyout",
       "prompt_number": 61,
       "text": [
        "IQ Standard Score     33\n",
        "Non-verbal IQ         21\n",
        "Language IQ           12\n",
        "IQ Age Scale           6\n",
        "Motor IQ               4\n",
        "Language Age Scale     2\n",
        "dtype: int64"
       ]
      }
     ],
     "prompt_number": 61
    },
    {
     "cell_type": "markdown",
     "metadata": {},
     "source": [
      "## Build network"
     ]
    },
    {
     "cell_type": "code",
     "collapsed": false,
     "input": [
      "intervention_types = ['high_intensity_eibi', 'low_intensity_eibi',\n",
      "       'low_intensity_parent_training', 'defined_school_program',\n",
      "       'high_intensity_community', 'adjunctive_community_service',\n",
      "       'eclectic_school']"
     ],
     "language": "python",
     "metadata": {},
     "outputs": [],
     "prompt_number": 62
    },
    {
     "cell_type": "code",
     "collapsed": false,
     "input": [
      "import itertools\n",
      "\n",
      "network_edges = list(itertools.combinations(intervention_types, 2))"
     ],
     "language": "python",
     "metadata": {},
     "outputs": [],
     "prompt_number": 63
    },
    {
     "cell_type": "code",
     "collapsed": false,
     "input": [
      "network = dict.fromkeys(network_edges, 0)\n",
      "for i in intervention_types:\n",
      "    network[(i, i)] = 0"
     ],
     "language": "python",
     "metadata": {},
     "outputs": [],
     "prompt_number": 64
    },
    {
     "cell_type": "code",
     "collapsed": false,
     "input": [
      "sample_size = network.copy()"
     ],
     "language": "python",
     "metadata": {},
     "outputs": [],
     "prompt_number": 65
    },
    {
     "cell_type": "code",
     "collapsed": false,
     "input": [
      "# Loop over all studies\n",
      "for s in cognition.refid.unique():\n",
      "    \n",
      "    # Construct pairs of comparisons\n",
      "    study = cognition[cognition.refid==s]\n",
      "    study_interventions = study[intervention_types].sum()\n",
      "    # Get sample sizes\n",
      "    studies = cognition[cognition.refid==s]\n",
      "    n_analysis = studies.n_analysis\n",
      "    \n",
      "    # Generate pairs of interventions for this study\n",
      "    pairs = list(itertools.combinations(study_interventions.index[study_interventions==1].values, 2))\n",
      "    \n",
      "    # Loop over pairs within study, and increment comparison count\n",
      "    for pair in pairs:\n",
      "        \n",
      "        network[pair] += 1\n",
      "\n",
      "        sample_size[pair] += n_analysis[cognition[cognition.refid==s][pair[0]]==1].values[0]\n",
      "        sample_size[pair] += n_analysis[cognition[cognition.refid==s][pair[1]]==1].values[0]\n",
      "        \n",
      "    \n",
      "    # Account for comparisons within a class\n",
      "    within_comparisons = study_interventions[study_interventions==2].index.values\n",
      "    for c in within_comparisons:\n",
      "        network[(c, c)] += 1\n",
      "        sample_size[(c, c)] += n_analysis[cognition[cognition.refid==s][c]==1].values[0]\n",
      "        sample_size[(c, c)] += n_analysis[cognition[cognition.refid==s][c]==1].values[1]\n",
      "        \n",
      "nonzero_network = {tuple(ni.replace('_', ' ') for ni in n): network[n] for n in network if network[n]}\n",
      "nonzero_samples = {tuple(ni.replace('_', ' ') for ni in n): sample_size[n] for n in sample_size if sample_size[n]}"
     ],
     "language": "python",
     "metadata": {},
     "outputs": [],
     "prompt_number": 66
    },
    {
     "cell_type": "code",
     "collapsed": false,
     "input": [
      "nonzero_network"
     ],
     "language": "python",
     "metadata": {},
     "outputs": [
      {
       "metadata": {},
       "output_type": "pyout",
       "prompt_number": 67,
       "text": [
        "{('adjunctive community service', 'adjunctive community service'): 1,\n",
        " ('adjunctive community service', 'eclectic school'): 1,\n",
        " ('defined school program', 'adjunctive community service'): 2,\n",
        " ('defined school program', 'defined school program'): 2,\n",
        " ('defined school program', 'eclectic school'): 3,\n",
        " ('eclectic school', 'eclectic school'): 1,\n",
        " ('high intensity community', 'eclectic school'): 1,\n",
        " ('high intensity eibi', 'adjunctive community service'): 3,\n",
        " ('high intensity eibi', 'defined school program'): 4,\n",
        " ('high intensity eibi', 'eclectic school'): 3,\n",
        " ('high intensity eibi', 'high intensity community'): 2,\n",
        " ('high intensity eibi', 'high intensity eibi'): 3,\n",
        " ('high intensity eibi', 'low intensity parent training'): 1,\n",
        " ('low intensity eibi', 'eclectic school'): 1,\n",
        " ('low intensity parent training', 'adjunctive community service'): 3,\n",
        " ('low intensity parent training', 'defined school program'): 1,\n",
        " ('low intensity parent training', 'eclectic school'): 1}"
       ]
      }
     ],
     "prompt_number": 67
    },
    {
     "cell_type": "code",
     "collapsed": false,
     "input": [
      "nonzero_samples"
     ],
     "language": "python",
     "metadata": {},
     "outputs": [
      {
       "metadata": {},
       "output_type": "pyout",
       "prompt_number": 68,
       "text": [
        "{('adjunctive community service', 'adjunctive community service'): 152,\n",
        " ('adjunctive community service', 'eclectic school'): 31,\n",
        " ('defined school program', 'adjunctive community service'): 77,\n",
        " ('defined school program', 'defined school program'): 112,\n",
        " ('defined school program', 'eclectic school'): 112,\n",
        " ('eclectic school', 'eclectic school'): 41,\n",
        " ('high intensity community', 'eclectic school'): 32,\n",
        " ('high intensity eibi', 'adjunctive community service'): 111,\n",
        " ('high intensity eibi', 'defined school program'): 184,\n",
        " ('high intensity eibi', 'eclectic school'): 105,\n",
        " ('high intensity eibi', 'high intensity community'): 90,\n",
        " ('high intensity eibi', 'high intensity eibi'): 90,\n",
        " ('high intensity eibi', 'low intensity parent training'): 28,\n",
        " ('low intensity eibi', 'eclectic school'): 40,\n",
        " ('low intensity parent training', 'adjunctive community service'): 172,\n",
        " ('low intensity parent training', 'defined school program'): 48,\n",
        " ('low intensity parent training', 'eclectic school'): 26}"
       ]
      }
     ],
     "prompt_number": 68
    },
    {
     "cell_type": "code",
     "collapsed": false,
     "input": [
      "import networkx as nx\n",
      "\n",
      "G = nx.Graph()\n",
      "\n",
      "for n in nonzero_network:\n",
      "    G.add_edge(n[0], n[1] ,weight=nonzero_network[n])"
     ],
     "language": "python",
     "metadata": {},
     "outputs": [],
     "prompt_number": 69
    },
    {
     "cell_type": "code",
     "collapsed": false,
     "input": [
      "#pos = nx.spring_layout(G)\n",
      "pos = nx.graphviz_layout(G) #, prog=\"twopi\")"
     ],
     "language": "python",
     "metadata": {},
     "outputs": [],
     "prompt_number": 70
    },
    {
     "cell_type": "code",
     "collapsed": false,
     "input": [
      "plt.figure(figsize=(14,8))\n",
      "nx.draw_networkx_nodes(G, pos,node_size=700)\n",
      "\n",
      "nmax = float(max(nonzero_samples.values()))\n",
      "\n",
      "for i in range(max(nonzero_network.values())):\n",
      "    # Generate edge with appropriate weight\n",
      "    edge_i = [(u,v) for (u,v,d) in G.edges(data=True) if d['weight']==(i+1)]\n",
      "    # Generate alpha for edges\n",
      "    try:\n",
      "        alpha = nonzero_samples[edge_i[0]] / nmax\n",
      "    except KeyError:\n",
      "        # Sometimes the pairs are backwards\n",
      "        alpha = nonzero_samples[edge_i[0][::-1]] / nmax\n",
      "    nx.draw_networkx_edges(G, pos, edgelist=edge_i, width=(i+1)*3, alpha=alpha)\n",
      "pos_shifted = {p: (pos[p][0], pos[p][1]+10) for p in pos}\n",
      "nx.draw_networkx_labels(G, pos_shifted, font_size=10, font_family='sans-serif')\n",
      "plt.gca().xaxis.set_major_locator(plt.NullLocator())\n",
      "plt.gca().yaxis.set_major_locator(plt.NullLocator());"
     ],
     "language": "python",
     "metadata": {},
     "outputs": [
      {
       "metadata": {},
       "output_type": "display_data",
       "png": "[encoded data removed]",
       "text": [
        "<matplotlib.figure.Figure at 0x10f7b4c90>"
       ]
      }
     ],
     "prompt_number": 71
    },
    {
     "cell_type": "markdown",
     "metadata": {},
     "source": [
      "### Merge study information and outcomes"
     ]
    },
    {
     "cell_type": "code",
     "collapsed": false,
     "input": [
      "# Columns from the cognition table that we are interested in\n",
      "cols_to_keep = ['refid', 'author', 'year', 'treatment', \n",
      "       'high_intensity_eibi', 'low_intensity_eibi',\n",
      "       'low_intensity_parent_training', 'defined_school_program',\n",
      "       'high_intensity_community', 'adjunctive_community_service',\n",
      "       'eclectic_school', 'intervention_duration', \n",
      "       'n_analysis', 'age_enroll_mean', 'age_enroll_sd',\n",
      "       'age_enroll_lo', 'age_enroll_hi', 'diagnosis_autism',\n",
      "       'diagnosis_pdd-nos', 'diagnosis_asperger', 'diagnosis_other']"
     ],
     "language": "python",
     "metadata": {},
     "outputs": [],
     "prompt_number": 72
    },
    {
     "cell_type": "code",
     "collapsed": false,
     "input": [
      "cognition_data = cognition[cols_to_keep].merge(cognition_outcomes, left_index=True, right_on='obsid')"
     ],
     "language": "python",
     "metadata": {},
     "outputs": [],
     "prompt_number": 73
    },
    {
     "cell_type": "code",
     "collapsed": false,
     "input": [
      "cognition_data.head()"
     ],
     "language": "python",
     "metadata": {},
     "outputs": [
      {
       "html": [
        "<div style=\"max-height:1000px;max-width:1500px;overflow:auto;\">\n",
        "<table border=\"1\" class=\"dataframe\">\n",
        "  <thead>\n",
        "    <tr style=\"text-align: right;\">\n",
        "      <th></th>\n",
        "      <th>refid</th>\n",
        "      <th>author</th>\n",
        "      <th>year</th>\n",
        "      <th>treatment</th>\n",
        "      <th>high_intensity_eibi</th>\n",
        "      <th>low_intensity_eibi</th>\n",
        "      <th>low_intensity_parent_training</th>\n",
        "      <th>defined_school_program</th>\n",
        "      <th>high_intensity_community</th>\n",
        "      <th>adjunctive_community_service</th>\n",
        "      <th>eclectic_school</th>\n",
        "      <th>intervention_duration</th>\n",
        "      <th>n_analysis</th>\n",
        "      <th>age_enroll_mean</th>\n",
        "      <th>age_enroll_sd</th>\n",
        "      <th>age_enroll_lo</th>\n",
        "      <th>age_enroll_hi</th>\n",
        "      <th>diagnosis_autism</th>\n",
        "      <th>diagnosis_pdd-nos</th>\n",
        "      <th>diagnosis_asperger</th>\n",
        "      <th></th>\n",
        "    </tr>\n",
        "    <tr>\n",
        "      <th>outcomeid</th>\n",
        "      <th></th>\n",
        "      <th></th>\n",
        "      <th></th>\n",
        "      <th></th>\n",
        "      <th></th>\n",
        "      <th></th>\n",
        "      <th></th>\n",
        "      <th></th>\n",
        "      <th></th>\n",
        "      <th></th>\n",
        "      <th></th>\n",
        "      <th></th>\n",
        "      <th></th>\n",
        "      <th></th>\n",
        "      <th></th>\n",
        "      <th></th>\n",
        "      <th></th>\n",
        "      <th></th>\n",
        "      <th></th>\n",
        "      <th></th>\n",
        "    </tr>\n",
        "  </thead>\n",
        "  <tbody>\n",
        "    <tr>\n",
        "      <th>1 </th>\n",
        "      <td> 6276_240</td>\n",
        "      <td> Kovshoff</td>\n",
        "      <td> 2011</td>\n",
        "      <td>    EIBI</td>\n",
        "      <td> 1</td>\n",
        "      <td> 0</td>\n",
        "      <td> 0</td>\n",
        "      <td> 0</td>\n",
        "      <td> 0</td>\n",
        "      <td> 0</td>\n",
        "      <td> 1</td>\n",
        "      <td> 24</td>\n",
        "      <td> 23</td>\n",
        "      <td> 35.7</td>\n",
        "      <td> 4.0</td>\n",
        "      <td>NaN</td>\n",
        "      <td>NaN</td>\n",
        "      <td> 0</td>\n",
        "      <td> 0</td>\n",
        "      <td> 0</td>\n",
        "      <td>...</td>\n",
        "    </tr>\n",
        "    <tr>\n",
        "      <th>49</th>\n",
        "      <td> 6276_240</td>\n",
        "      <td> Kovshoff</td>\n",
        "      <td> 2011</td>\n",
        "      <td>    EIBI</td>\n",
        "      <td> 1</td>\n",
        "      <td> 0</td>\n",
        "      <td> 0</td>\n",
        "      <td> 0</td>\n",
        "      <td> 0</td>\n",
        "      <td> 0</td>\n",
        "      <td> 1</td>\n",
        "      <td> 24</td>\n",
        "      <td> 23</td>\n",
        "      <td> 35.7</td>\n",
        "      <td> 4.0</td>\n",
        "      <td>NaN</td>\n",
        "      <td>NaN</td>\n",
        "      <td> 0</td>\n",
        "      <td> 0</td>\n",
        "      <td> 0</td>\n",
        "      <td>...</td>\n",
        "    </tr>\n",
        "    <tr>\n",
        "      <th>2 </th>\n",
        "      <td> 6276_240</td>\n",
        "      <td> Kovshoff</td>\n",
        "      <td> 2011</td>\n",
        "      <td> Control</td>\n",
        "      <td> 0</td>\n",
        "      <td> 0</td>\n",
        "      <td> 0</td>\n",
        "      <td> 0</td>\n",
        "      <td> 0</td>\n",
        "      <td> 1</td>\n",
        "      <td> 1</td>\n",
        "      <td> 24</td>\n",
        "      <td> 18</td>\n",
        "      <td> 38.4</td>\n",
        "      <td> 4.4</td>\n",
        "      <td>NaN</td>\n",
        "      <td>NaN</td>\n",
        "      <td> 0</td>\n",
        "      <td> 0</td>\n",
        "      <td> 0</td>\n",
        "      <td>...</td>\n",
        "    </tr>\n",
        "    <tr>\n",
        "      <th>50</th>\n",
        "      <td> 6276_240</td>\n",
        "      <td> Kovshoff</td>\n",
        "      <td> 2011</td>\n",
        "      <td> Control</td>\n",
        "      <td> 0</td>\n",
        "      <td> 0</td>\n",
        "      <td> 0</td>\n",
        "      <td> 0</td>\n",
        "      <td> 0</td>\n",
        "      <td> 1</td>\n",
        "      <td> 1</td>\n",
        "      <td> 24</td>\n",
        "      <td> 18</td>\n",
        "      <td> 38.4</td>\n",
        "      <td> 4.4</td>\n",
        "      <td>NaN</td>\n",
        "      <td>NaN</td>\n",
        "      <td> 0</td>\n",
        "      <td> 0</td>\n",
        "      <td> 0</td>\n",
        "      <td>...</td>\n",
        "    </tr>\n",
        "    <tr>\n",
        "      <th>3 </th>\n",
        "      <td>     6493</td>\n",
        "      <td>   Strain</td>\n",
        "      <td> 2011</td>\n",
        "      <td>    LEAP</td>\n",
        "      <td> 0</td>\n",
        "      <td> 0</td>\n",
        "      <td> 0</td>\n",
        "      <td> 1</td>\n",
        "      <td> 0</td>\n",
        "      <td> 0</td>\n",
        "      <td> 0</td>\n",
        "      <td> 24</td>\n",
        "      <td> 27</td>\n",
        "      <td> 50.1</td>\n",
        "      <td> 4.6</td>\n",
        "      <td>NaN</td>\n",
        "      <td>NaN</td>\n",
        "      <td> 0</td>\n",
        "      <td> 0</td>\n",
        "      <td> 0</td>\n",
        "      <td>...</td>\n",
        "    </tr>\n",
        "  </tbody>\n",
        "</table>\n",
        "<p>5 rows \u00d7 32 columns</p>\n",
        "</div>"
       ],
       "metadata": {},
       "output_type": "pyout",
       "prompt_number": 74,
       "text": [
        "              refid    author  year treatment  high_intensity_eibi  \\\n",
        "outcomeid                                                            \n",
        "1          6276_240  Kovshoff  2011      EIBI                    1   \n",
        "49         6276_240  Kovshoff  2011      EIBI                    1   \n",
        "2          6276_240  Kovshoff  2011   Control                    0   \n",
        "50         6276_240  Kovshoff  2011   Control                    0   \n",
        "3              6493    Strain  2011      LEAP                    0   \n",
        "\n",
        "           low_intensity_eibi  low_intensity_parent_training  \\\n",
        "outcomeid                                                      \n",
        "1                           0                              0   \n",
        "49                          0                              0   \n",
        "2                           0                              0   \n",
        "50                          0                              0   \n",
        "3                           0                              0   \n",
        "\n",
        "           defined_school_program  high_intensity_community  \\\n",
        "outcomeid                                                     \n",
        "1                               0                         0   \n",
        "49                              0                         0   \n",
        "2                               0                         0   \n",
        "50                              0                         0   \n",
        "3                               1                         0   \n",
        "\n",
        "           adjunctive_community_service  eclectic_school  \\\n",
        "outcomeid                                                  \n",
        "1                                     0                1   \n",
        "49                                    0                1   \n",
        "2                                     1                1   \n",
        "50                                    1                1   \n",
        "3                                     0                0   \n",
        "\n",
        "           intervention_duration  n_analysis  age_enroll_mean  age_enroll_sd  \\\n",
        "outcomeid                                                                      \n",
        "1                             24          23             35.7            4.0   \n",
        "49                            24          23             35.7            4.0   \n",
        "2                             24          18             38.4            4.4   \n",
        "50                            24          18             38.4            4.4   \n",
        "3                             24          27             50.1            4.6   \n",
        "\n",
        "           age_enroll_lo  age_enroll_hi  diagnosis_autism  diagnosis_pdd-nos  \\\n",
        "outcomeid                                                                      \n",
        "1                    NaN            NaN                 0                  0   \n",
        "49                   NaN            NaN                 0                  0   \n",
        "2                    NaN            NaN                 0                  0   \n",
        "50                   NaN            NaN                 0                  0   \n",
        "3                    NaN            NaN                 0                  0   \n",
        "\n",
        "           diagnosis_asperger      \n",
        "outcomeid                          \n",
        "1                           0 ...  \n",
        "49                          0 ...  \n",
        "2                           0 ...  \n",
        "50                          0 ...  \n",
        "3                           0 ...  \n",
        "\n",
        "[5 rows x 32 columns]"
       ]
      }
     ],
     "prompt_number": 74
    },
    {
     "cell_type": "code",
     "collapsed": false,
     "input": [],
     "language": "python",
     "metadata": {},
     "outputs": [],
     "prompt_number": 75
    }
   ],
   "metadata": {}
  }
 ]
}